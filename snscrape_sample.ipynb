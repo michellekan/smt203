{
  "nbformat": 4,
  "nbformat_minor": 0,
  "metadata": {
    "colab": {
      "name": "snscrape-sample.ipynb",
      "provenance": [],
      "collapsed_sections": [],
      "include_colab_link": true
    },
    "kernelspec": {
      "name": "python3",
      "display_name": "Python 3"
    },
    "language_info": {
      "name": "python"
    }
  },
  "cells": [
    {
      "cell_type": "markdown",
      "metadata": {
        "id": "view-in-github",
        "colab_type": "text"
      },
      "source": [
        "<a href=\"https://colab.research.google.com/github/michellekan/smt203/blob/main/snscrape_sample.ipynb\" target=\"_parent\"><img src=\"https://colab.research.google.com/assets/colab-badge.svg\" alt=\"Open In Colab\"/></a>"
      ]
    },
    {
      "cell_type": "markdown",
      "metadata": {
        "id": "-g1v954QbMHr"
      },
      "source": [
        "## Sample code for snscrape library"
      ]
    },
    {
      "cell_type": "code",
      "metadata": {
        "id": "MoHRaItwbOZD"
      },
      "source": [
        "!pip install -q snscrape==0.3.4"
      ],
      "execution_count": 2,
      "outputs": []
    },
    {
      "cell_type": "code",
      "metadata": {
        "id": "nD7B3adiubGG"
      },
      "source": [
        "import pandas as pd\n",
        "import snscrape.modules.twitter as sntwitter\n",
        "import pandas as pd"
      ],
      "execution_count": 3,
      "outputs": []
    },
    {
      "cell_type": "code",
      "metadata": {
        "id": "bmZRDzvX-ril"
      },
      "source": [
        "# Add Google Drive as an accessible path (Optional if you are running from Jupyter Notebook)\n",
        "from google.colab import drive\n",
        "drive.mount('/content/drive')\n",
        "\n",
        "# change path to the designated google drive folder\n",
        "# otherwise, data will be saved in /content folder which you may have issue locating\n",
        "%cd /content/drive/My Drive/Colab Notebooks"
      ],
      "execution_count": null,
      "outputs": []
    },
    {
      "cell_type": "markdown",
      "metadata": {
        "id": "6pB_KOAKaXVq"
      },
      "source": [
        "##Extracting Tweets based on Keyword"
      ]
    },
    {
      "cell_type": "code",
      "metadata": {
        "id": "o1ppX_4ranq_"
      },
      "source": [
        "# set parameters used to retrieve tweets\n",
        "keyword= 'elections'\n",
        "from_date = '2020-11-01'\n",
        "end_date = '2020-11-05'\n",
        "max_tweet = 1000"
      ],
      "execution_count": 23,
      "outputs": []
    },
    {
      "cell_type": "code",
      "metadata": {
        "id": "5mxouhEy-tze"
      },
      "source": [
        "# Creating list to append tweet data to\n",
        "tweets_list = []\n",
        "\n",
        "# Using TwitterSearchScraper to scrape data and append tweets to list\n",
        "for i,tweet in enumerate(sntwitter.TwitterSearchScraper(keyword + ' lang:en since:' +  from_date + ' until:' + end_date + ' -filter:links -filter:replies -filter:retweets').get_items()):\n",
        "    tweets_list.append([tweet.date,tweet.id,tweet.username,tweet.content])\n",
        "\n",
        "    if i>max_tweet:\n",
        "        break\n",
        "  \n",
        "# Creating a dataframe from the tweets list above\n",
        "tweets_df = pd.DataFrame(tweets_list, columns=['Datetime','Tweet Id','Username', 'Text'])\n",
        "pd.set_option('display.max_colwidth', 150)\n",
        "tweets_df.head()"
      ],
      "execution_count": null,
      "outputs": []
    },
    {
      "cell_type": "code",
      "metadata": {
        "id": "PFSQjEym-xsW"
      },
      "source": [
        "tweets_df.shape"
      ],
      "execution_count": null,
      "outputs": []
    },
    {
      "cell_type": "code",
      "metadata": {
        "id": "v9g1uBkCauRj"
      },
      "source": [
        "# Export tweets to csv file\n",
        "tweets_df.to_csv(f'{keyword}_tweets.csv')"
      ],
      "execution_count": 26,
      "outputs": []
    },
    {
      "cell_type": "code",
      "metadata": {
        "id": "7ZBBo97f-xJ2"
      },
      "source": [
        ""
      ],
      "execution_count": null,
      "outputs": []
    },
    {
      "cell_type": "code",
      "metadata": {
        "id": "RbNzRpfSbAaf"
      },
      "source": [
        ""
      ],
      "execution_count": null,
      "outputs": []
    }
  ]
}